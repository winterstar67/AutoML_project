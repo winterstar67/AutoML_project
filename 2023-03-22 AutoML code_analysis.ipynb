{
 "cells": [
  {
   "cell_type": "markdown",
   "id": "6f20493f-8d54-45f5-9845-5ee655c52a6f",
   "metadata": {},
   "source": [
    "# Code analysis (프로젝트 코드 분석)\n",
    "## This is for personal study by winterstar67\n"
   ]
  },
  {
   "cell_type": "markdown",
   "id": "56aab6ed-95a0-4785-9752-8bb8fea09b4e",
   "metadata": {},
   "source": [
    "## Libraries:\n",
    "1. streamlit\n",
    "2. pandas_profiling\n",
    "3. pycaret"
   ]
  },
  {
   "cell_type": "markdown",
   "id": "2d2754da-52ce-4778-94e3-2e26863acb7c",
   "metadata": {},
   "source": [
    "### The entire code (전체 코드)"
   ]
  },
  {
   "cell_type": "code",
   "execution_count": null,
   "id": "cb98ca28-4f5d-4bd8-86f1-7192c9d77b1b",
   "metadata": {},
   "outputs": [],
   "source": [
    "import streamlit as st\n",
    "import pandas as pd\n",
    "import os\n",
    "\n",
    "# Data Profiling 도구 import\n",
    "import pandas_profiling\n",
    "from streamlit_pandas_profiling import st_profile_report\n",
    "\n",
    "# ML 도구들 import\n",
    "from pycaret.classification import setup, compare_models, pull, save_model\n",
    "\n",
    "\n",
    "with st.sidebar:\n",
    "    st.image(\"https://www.zdnet.com/a/img/resize/28d3f004b94bd200eea41399d2be2fff7505906a/2018/04/13/36c52953-7ab9-4608-a848-71d1d538856e/td-deep-learning.jpg?auto=webp&fit=crop&height=675&width=1200\")\n",
    "    st.title(\"AutoStreamML\")\n",
    "    choice = st.radio(\"Navigation\", [\"Upload\",\"Profiling\",\"ML\",\"Download\"])\n",
    "    st.info(\"This application allows you to build an automated ML pipline using Streamlit, Pandas Profiling and PyCaret.\")\n",
    "\n",
    "if os.path.exists(\"sourcedata.csv\"):\n",
    "    df = pd.read_csv(\"sourcedata.csv\", index_col=None)\n",
    "\n",
    "if choice == \"Upload\":\n",
    "    st.title(\"Upload Your Data for Modelling\")\n",
    "    file = st.file_uploader(\"Upload Your Dataset\")\n",
    "    if file:\n",
    "        df = pd.read_csv(file, index_col=None)\n",
    "        df.to_csv(\"sourcedata.csv\", index=None)\n",
    "        st.dataframe(df) \n",
    "        # do something \n",
    "        pass\n",
    "\n",
    "if choice == \"Profiling\":\n",
    "    st.title(\"Automated Exproratory Data Analysis\")\n",
    "    profile_report =df.profile_report()\n",
    "    st_profile_report(profile_report)\n",
    "\n",
    "\n",
    "\n",
    "if choice == \"ML\":\n",
    "    st.title(\"Machine learning go ~~~\")\n",
    "    target = st.selectbox(\"Select Your Target\", df.columns)\n",
    "    if st.button(\"Train model\"):\n",
    "        setup(df, target=target)\n",
    "        setup_df = pull()\n",
    "        st.info(\"This is the ML Experiment settings\")\n",
    "        st.dataframe(setup_df)\n",
    "        best_model = compare_models()\n",
    "        compare_df = pull()\n",
    "        st.info(\"This is the ML model\")\n",
    "        st.dataframe(compare_df)\n",
    "        best_model\n",
    "        save_model(best_model, 'best_model')\n",
    "\n",
    "\n",
    "if choice == \"Download\":\n",
    "    with open(\"best_model.pkl\", 'rb') as f:\n",
    "        st.download_button(\"Download the Model\", f, \"trained_model.pkl\")\n",
    "    pass"
   ]
  },
  {
   "cell_type": "markdown",
   "id": "3133dfd7-3aba-4f38-bf42-870c9be79a41",
   "metadata": {},
   "source": [
    "#### 1. Import part"
   ]
  },
  {
   "cell_type": "code",
   "execution_count": null,
   "id": "aa343204-b0cf-4ca8-9326-6655ea3ed612",
   "metadata": {},
   "outputs": [],
   "source": [
    "import streamlit as st # For machine learning web application \n",
    "import pandas as pd  \n",
    "import os  \n",
    "\n",
    "# Data Profiling tool import  \n",
    "import pandas_profiling # For automated EDA (but mayby we need to do data analysis by ourselves for real problem)  \n",
    "from streamlit_pandas_profiling import st_profile_report # For using pandas_profiling on streamlit  \n",
    "\n",
    "# ML tool import  \n",
    "from pycaret.classification import setup, compare_models, pull, save_model # For automated Machine learning workflow"
   ]
  },
  {
   "cell_type": "markdown",
   "id": "cd3f41ac-3c0b-4551-8d3e-f3060b6303d3",
   "metadata": {},
   "source": [
    "- https://mokeya.tistory.com/147\n",
    "- https://wikidocs.net/47193\n",
    "- https://cslife.tistory.com/m/entry/Pandas-Profiling-%ED%8C%90%EB%8B%A4%EC%8A%A4-%ED%94%84%EB%A1%9C%ED%8C%8C%EC%9D%BC%EB%A7%81-Streamlit%EC%97%90%EC%84%9C-%EA%B5%AC%ED%98%84%ED%95%98%EA%B8%B0\n",
    "- https://dsbook.tistory.com/360\n"
   ]
  },
  {
   "cell_type": "markdown",
   "id": "1ab23b97-5dee-4d11-8d3e-8cd876a26347",
   "metadata": {},
   "source": [
    "#### 2. Basing setting for Web"
   ]
  },
  {
   "cell_type": "code",
   "execution_count": null,
   "id": "832f226e-c86a-4230-858b-8609c87403b3",
   "metadata": {},
   "outputs": [],
   "source": [
    "with st.sidebar: # st.sidebar: create sidebar on the left side in Web\n",
    "    st.image(\"https://www.zdnet.com/a/img/resize/28d3f004b94bd200eea41399d2be2fff7505906a/2018/04/13/36c52953-7ab9-4608-a848-71d1d538856e/td-deep-learning.jpg?auto=webp&fit=crop&height=675&width=1200\") # image insert\n",
    "    st.title(\"AutoStreamML\") # set title\n",
    "    choice = st.radio(\"Navigation\", [\"Upload\",\"Profiling\",\"ML\",\"Download\"]) # creating radio butten\n",
    "        # Radio button is a button that only one element can be selected \n",
    "        \n",
    "    st.info(\"This application allows you to build an automated ML pipline using Streamlit, Pandas Profiling and PyCaret.\") # information message, you can check the position of the text by running the code\n"
   ]
  },
  {
   "cell_type": "markdown",
   "id": "f53c5c39-d8c4-44f6-84c2-d9320566fe61",
   "metadata": {},
   "source": [
    "#### 3. Upload function"
   ]
  },
  {
   "cell_type": "code",
   "execution_count": null,
   "id": "cadfd5b1-6721-4812-8bd9-841214c42c22",
   "metadata": {},
   "outputs": [],
   "source": [
    "if choice == \"Upload\": # if the button is set on \"Upload\"\n",
    "    st.title(\"Upload Your Data for Modelling\") # set title like this\n",
    "    file = st.file_uploader(\"Upload Your Dataset\") # Display a file uploader widget (files are limited to 200MB). It takes uploaded file\n",
    "    if file: # if uploaded fiile is not None\n",
    "        df = pd.read_csv(file, index_col=None) # read this file as csv file and save it to variable \"df\"\n",
    "        df.to_csv(\"sourcedata.csv\", index=None) # save this file as a csv file with name \"sourcedata.csv\"\n",
    "        st.dataframe(df) # Display a dataframe\n",
    "        pass"
   ]
  },
  {
   "cell_type": "markdown",
   "id": "40b5de3c-31fb-44e9-8fb6-3b1c86ab4a73",
   "metadata": {
    "tags": []
   },
   "source": [
    "#### 4. Profiling"
   ]
  },
  {
   "cell_type": "code",
   "execution_count": null,
   "id": "44b3e013-5fe7-492f-b5e8-7c3a48d5f763",
   "metadata": {},
   "outputs": [],
   "source": [
    "if choice == \"Profiling\": # if the button is set on \"Profiling\"\n",
    "    st.title(\"Automated Exproratory Data Analysis\") # set tile like this\n",
    "    profile_report =df.profile_report() # Save the profiling result to \"profile_report\" , it's a function existed in Dataframe objective\n",
    "    st_profile_report(profile_report) # Display the pandas_profiling report result on streamlit web (? I'm not sure whether it's correct...)\n",
    "    "
   ]
  },
  {
   "cell_type": "markdown",
   "id": "8c87f654-7305-4361-99f7-1fda7f38b5bb",
   "metadata": {
    "tags": []
   },
   "source": [
    "#### 5, ML model training"
   ]
  },
  {
   "cell_type": "code",
   "execution_count": null,
   "id": "3821ea65-c6ae-472a-85da-d2f0c0af53f1",
   "metadata": {},
   "outputs": [],
   "source": [
    "if choice == \"ML\": # if the button is set on \"ML\"\n",
    "    st.title(\"Machine learning go ~~~\") # set tile like this\n",
    "    target = st.selectbox(\"Select Your Target\", df.columns) # creating seletbox with title \"Select Your Target\", and the selecting option is one of the df.columns\n",
    "    if st.button(\"Train model\"): # creating button whose name is \"Train model\"\n",
    "        setup(df, target=target) # This function have to be called before excuting any other function, takes two parapeters \"data\" and \"target\"\n",
    "        setup_df = pull() # This function returns the latest displayed table as dataframe\n",
    "        st.info(\"This is the ML Experiment settings\")\n",
    "        st.dataframe(setup_df) # Display a latest displayed table on streamlit Web\n",
    "        best_model = compare_models() # train and evalutae performance of all estimators in the model using cross validation\n",
    "        # output of compare_models() is score grid with average cross validated scores\n",
    "        compare_df = pull()\n",
    "        st.info(\"This is the ML model\")\n",
    "        st.dataframe(compare_df)\n",
    "        best_model\n",
    "        save_model(best_model, 'best_model') # save trained model object in current working directory as pickle file"
   ]
  },
  {
   "cell_type": "markdown",
   "id": "5e45e8ca-f65d-48ca-b7c8-e43d507a926d",
   "metadata": {
    "tags": []
   },
   "source": [
    "#### 6. Model download"
   ]
  },
  {
   "cell_type": "code",
   "execution_count": null,
   "id": "2ddbe048-ee84-45a4-907c-f87a43947e33",
   "metadata": {},
   "outputs": [],
   "source": [
    "if choice == \"Download\":\n",
    "    with open(\"best_model.pkl\", 'rb') as f:\n",
    "        st.download_button(\"Download the Model\", f, \"trained_model.pkl\") # display a download button widget whose title is \"Download the Model\", open \"best_model.pkl\" file and download it as \"trained_model.pkl\"\n",
    "        # this button makes the user be able to download a file\n"
   ]
  },
  {
   "cell_type": "markdown",
   "id": "3a9f2837-0648-4ee6-8fcb-becc74865ce9",
   "metadata": {},
   "source": [
    "`-` streamlit:\n",
    "- https://zzsza.github.io/mlops/2021/02/07/python-streamlit-dashboard/"
   ]
  },
  {
   "cell_type": "markdown",
   "id": "65430bae-bbcf-4189-ae0a-b69dee7bd460",
   "metadata": {},
   "source": [
    "`-` pycaret:\n",
    "- https://pycaret.readthedocs.io/en/stable/api/classification.html#pycaret.classification.compare_models\n",
    "- https://dsbook.tistory.com/360\n",
    "- setup function: https://pycaret.gitbook.io/docs/get-started/functions/initialize#setting-up-environment"
   ]
  },
  {
   "cell_type": "code",
   "execution_count": null,
   "id": "ad0371de-986f-4618-8535-53435059a1da",
   "metadata": {},
   "outputs": [],
   "source": []
  },
  {
   "cell_type": "code",
   "execution_count": null,
   "id": "aac9907f-31c4-4eac-bb81-7f826d85f4a1",
   "metadata": {},
   "outputs": [],
   "source": []
  },
  {
   "cell_type": "code",
   "execution_count": null,
   "id": "693be0e2-d193-40e8-832b-b8d6ebc91088",
   "metadata": {},
   "outputs": [],
   "source": []
  },
  {
   "cell_type": "code",
   "execution_count": null,
   "id": "a27e949a-307f-46cd-bdc1-575dc7e29bb3",
   "metadata": {},
   "outputs": [],
   "source": []
  },
  {
   "cell_type": "code",
   "execution_count": null,
   "id": "e3d2fdef-809b-4bef-bc5a-c2afd9752dc9",
   "metadata": {},
   "outputs": [],
   "source": []
  },
  {
   "cell_type": "code",
   "execution_count": null,
   "id": "06400b14-97da-4908-bade-4545a22419e0",
   "metadata": {},
   "outputs": [],
   "source": []
  },
  {
   "cell_type": "code",
   "execution_count": null,
   "id": "02b05d4e-d99e-4c67-992f-e4f23bb7aed2",
   "metadata": {},
   "outputs": [],
   "source": []
  }
 ],
 "metadata": {
  "kernelspec": {
   "display_name": "Python 3 (ipykernel)",
   "language": "python",
   "name": "python3"
  },
  "language_info": {
   "codemirror_mode": {
    "name": "ipython",
    "version": 3
   },
   "file_extension": ".py",
   "mimetype": "text/x-python",
   "name": "python",
   "nbconvert_exporter": "python",
   "pygments_lexer": "ipython3",
   "version": "3.9.12"
  }
 },
 "nbformat": 4,
 "nbformat_minor": 5
}
